{
 "cells": [
  {
   "cell_type": "code",
   "execution_count": 1,
   "id": "da437de4",
   "metadata": {},
   "outputs": [],
   "source": [
    "class QueryIn():\n",
    "    status_of_existing_checking_account: str\n",
    "    duration_in_month: int\n",
    "    credit_history:\tstr\n",
    "    purpose: str\n",
    "    credit_amount: int\n",
    "    savings_account_bonds:\tstr"
   ]
  },
  {
   "cell_type": "code",
   "execution_count": 9,
   "id": "479e6a86",
   "metadata": {},
   "outputs": [
    {
     "name": "stderr",
     "output_type": "stream",
     "text": [
      "/Library/Frameworks/Python.framework/Versions/3.9/lib/python3.9/site-packages/sklearn/utils/validation.py:63: DataConversionWarning: A column-vector y was passed when a 1d array was expected. Please change the shape of y to (n_samples, ), for example using ravel().\n",
      "  return f(*args, **kwargs)\n"
     ]
    },
    {
     "name": "stdout",
     "output_type": "stream",
     "text": [
      "0.715\n",
      "Model trained with accuracy: 0.715\n",
      "Accuracy: 0.715\n",
      "Recall: 0.715\n",
      "Precision: 0.715\n",
      "F1-score: 0.644627326288226\n",
      "====================================\n",
      "Enter status_of_existing_checking_account\n",
      "{'A14': 'no checking account', 'A11': '<0 DM', 'A12': '0 <= <200 DM', 'A13': '>= 200 DM '}\n",
      "A11\n",
      "duration_in_month\n",
      "1 to 96\n",
      "48\n"
     ]
    },
    {
     "ename": "TypeError",
     "evalue": "'Credit_history' is an invalid keyword argument for str()",
     "output_type": "error",
     "traceback": [
      "\u001b[0;31m---------------------------------------------------------------------------\u001b[0m",
      "\u001b[0;31mTypeError\u001b[0m                                 Traceback (most recent call last)",
      "\u001b[0;32m<ipython-input-9-7e1a951bd02e>\u001b[0m in \u001b[0;36m<module>\u001b[0;34m\u001b[0m\n\u001b[1;32m      7\u001b[0m     \u001b[0mprint\u001b[0m\u001b[0;34m(\u001b[0m\u001b[0;34m\"duration_in_month\"\u001b[0m\u001b[0;34m+\u001b[0m\u001b[0;34m\"\\n1 to 96\"\u001b[0m\u001b[0;34m)\u001b[0m\u001b[0;34m\u001b[0m\u001b[0;34m\u001b[0m\u001b[0m\n\u001b[1;32m      8\u001b[0m     \u001b[0mduration_in_month\u001b[0m\u001b[0;34m=\u001b[0m\u001b[0mint\u001b[0m\u001b[0;34m(\u001b[0m\u001b[0minput\u001b[0m\u001b[0;34m(\u001b[0m\u001b[0;34m)\u001b[0m\u001b[0;34m)\u001b[0m\u001b[0;34m\u001b[0m\u001b[0;34m\u001b[0m\u001b[0m\n\u001b[0;32m----> 9\u001b[0;31m     print('credit_history\\n'+str(\n\u001b[0m\u001b[1;32m     10\u001b[0m     Credit_history={\"A34\":\"critical account\",\"A33\":\"delay in paying off\",\"A32\":\"existing credits paid back duly till now\",\"A31\":\"all credits at this bank paid back duly\",\"A30\":\"no credits taken\"}))\n\u001b[1;32m     11\u001b[0m     \u001b[0mcredit_history\u001b[0m\u001b[0;34m=\u001b[0m\u001b[0minput\u001b[0m\u001b[0;34m(\u001b[0m\u001b[0;34m)\u001b[0m\u001b[0;34m\u001b[0m\u001b[0;34m\u001b[0m\u001b[0m\n",
      "\u001b[0;31mTypeError\u001b[0m: 'Credit_history' is an invalid keyword argument for str()"
     ]
    }
   ],
   "source": [
    "from ml_utils import load_model,predictDict \n",
    "load_model()\n",
    "print(\"====================================\")\n",
    "while True:\n",
    "    print(\"Enter status_of_existing_checking_account\\n\"+str({'A14':\"no checking account\",'A11':\"<0 DM\", 'A12': \"0 <= <200 DM\",'A13':\">= 200 DM \"}))\n",
    "    status_of_existing_checking_account=input()\n",
    "    print(\"duration_in_month\"+\"\\n 1 to 96\")\n",
    "    duration_in_month=int(input())\n",
    "    print('credit_history\\n'+str(\n",
    "    Credit_history={\"A34\":\"critical account\",\"A33\":\"delay in paying off\",\"A32\":\"existing credits paid back duly till now\",\"A31\":\"all credits at this bank paid back duly\",\"A30\":\"no credits taken\"}))\n",
    "    credit_history=input()\n",
    "    print('purpose\\n'+ str({\"A40\" : \"car (new)\", \"A41\" : \"car (used)\", \"A42\" : \"furniture/equipment\", \"A43\" :\"radio/television\" , \"A44\" : \"domestic appliances\", \"A45\" : \"repairs\", \"A46\" : \"education\", 'A47' : 'vacation','A48' : 'retraining','A49' : 'business','A410' : 'others'}))\n",
    "    purpose=input()\n",
    "    print('credit_amount\\n'+str(\"0$ to 2000$\"))\n",
    "    credit_amount=int(input())\n",
    "    print('savings_account_bonds'+str({\"A65\" : \"no savings account\",\"A61\" :\"<100 DM\",\"A62\" : \"100 <= <500 DM\",\"A63\" :\"500 <= < 1000 DM\", \"A64\" :\">= 1000 DM\"}))\n",
    "    savings_account_bonds=input()\n",
    "    payload = {\n",
    "        \"status_of_existing_checking_account\":status_of_existing_checking_account,   \n",
    "        \"duration_in_month\": duration_in_month,\n",
    "        \"credit_history\":credit_history,\n",
    "        \"purpose\": purpose,\n",
    "        \"credit_amount\": credit_amount,\n",
    "        \"savings_account_bonds\": savings_account_bonds,\n",
    "      }\n",
    "    predictDict(payload)\n",
    "    print(\"Try Again,[y/n]\")\n",
    "    ch=input()\n",
    "    if(ch=='n'):\n",
    "        break"
   ]
  },
  {
   "cell_type": "code",
   "execution_count": null,
   "id": "29460f60",
   "metadata": {},
   "outputs": [],
   "source": []
  }
 ],
 "metadata": {
  "kernelspec": {
   "display_name": "Python 3",
   "language": "python",
   "name": "python3"
  },
  "language_info": {
   "codemirror_mode": {
    "name": "ipython",
    "version": 3
   },
   "file_extension": ".py",
   "mimetype": "text/x-python",
   "name": "python",
   "nbconvert_exporter": "python",
   "pygments_lexer": "ipython3",
   "version": "3.9.5"
  }
 },
 "nbformat": 4,
 "nbformat_minor": 5
}
