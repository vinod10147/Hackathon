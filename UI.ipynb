{
 "cells": [
  {
   "cell_type": "code",
   "execution_count": 1,
   "id": "da437de4",
   "metadata": {},
   "outputs": [],
   "source": [
    "class QueryIn():\n",
    "    status_of_existing_checking_account: str\n",
    "    duration_in_month: int\n",
    "    credit_history:\tstr\n",
    "    purpose: str\n",
    "    credit_amount: int\n",
    "    savings_account_bonds:\tstr"
   ]
  },
  {
   "cell_type": "code",
   "execution_count": 3,
   "id": "2634f399",
   "metadata": {},
   "outputs": [],
   "source": [
    "importance = {\n",
    "        \"status_of_existing_checking_account\": 0.45,\n",
    "        \"duration_in_month\": 0.43,\n",
    "        \"credit_history\":   0.25,\n",
    "        \"purpose\": 0.45,\n",
    "        \"credit_amount\": 0.41,\n",
    "        \"savings_account_bonds\": 0.24\n",
    "      }"
   ]
  },
  {
   "cell_type": "code",
   "execution_count": 4,
   "id": "479e6a86",
   "metadata": {},
   "outputs": [
    {
     "name": "stdout",
     "output_type": "stream",
     "text": [
      "Int64Index([0, 2, 3, 5], dtype='int64')\n",
      "ColumnTransformer(remainder='passthrough',\n",
      "                  transformers=[('o', OneHotEncoder(),\n",
      "                                 Int64Index([0, 2, 3, 5], dtype='int64'))])\n",
      "       0   1    2    3     4    5\n",
      "0    A11   6  A34  A43  1169  A65\n",
      "1    A12  48  A32  A43  5951  A61\n",
      "2    A14  12  A34  A46  2096  A61\n",
      "3    A11  42  A32  A42  7882  A61\n",
      "4    A11  24  A33  A40  4870  A61\n",
      "..   ...  ..  ...  ...   ...  ...\n",
      "995  A14  12  A32  A42  1736  A61\n",
      "996  A11  30  A32  A41  3857  A61\n",
      "997  A14  12  A32  A43   804  A61\n",
      "998  A11  45  A32  A43  1845  A61\n",
      "999  A12  45  A34  A41  4576  A62\n",
      "\n",
      "[1000 rows x 6 columns]\n",
      "(1000, 26) (1000, 1) Counter({20: 1})\n",
      "     20\n",
      "0     1\n",
      "1     2\n",
      "2     1\n",
      "3     1\n",
      "4     2\n",
      "..   ..\n",
      "995   1\n",
      "996   1\n",
      "997   1\n",
      "998   2\n",
      "999   1\n",
      "\n",
      "[1000 rows x 1 columns]\n",
      "0.78\n",
      "Model trained with accuracy: 0.78\n"
     ]
    },
    {
     "name": "stderr",
     "output_type": "stream",
     "text": [
      "/Library/Frameworks/Python.framework/Versions/3.9/lib/python3.9/site-packages/sklearn/utils/validation.py:63: DataConversionWarning: A column-vector y was passed when a 1d array was expected. Please change the shape of y to (n_samples, ), for example using ravel().\n",
      "  return f(*args, **kwargs)\n",
      "/Library/Frameworks/Python.framework/Versions/3.9/lib/python3.9/site-packages/sklearn/utils/validation.py:63: DataConversionWarning: A column-vector y was passed when a 1d array was expected. Please change the shape of y to (n_samples, ), for example using ravel().\n",
      "  return f(*args, **kwargs)\n"
     ]
    },
    {
     "name": "stdout",
     "output_type": "stream",
     "text": [
      "Accuracy: 0.78\n",
      "Recall: 0.78\n",
      "Precision: 0.78\n",
      "F1-score: 0.6894409937888198\n",
      "0.78\n",
      "Model trained with accuracy: 0.78\n",
      "Accuracy: 0.78\n",
      "Recall: 0.78\n",
      "Precision: 0.78\n",
      "F1-score: 0.6894409937888198\n",
      "====================================\n",
      "Enter status_of_existing_checking_account\n",
      "{'A14': 'no checking account', 'A11': '<0 DM', 'A12': '0 <= <200 DM', 'A13': '>= 200 DM '}\n",
      "A11\n",
      "duration_in_month\n",
      " 1 to 96\n",
      "48\n",
      "credit_history\n",
      "{'A34': 'critical account', 'A33': 'delay in paying off', 'A32': 'existing credits paid back duly till now', 'A31': 'all credits at this bank paid back duly', 'A30': 'no credits taken'}\n",
      "A34\n",
      "purpose\n",
      "{'A40': 'car (new)', 'A41': 'car (used)', 'A42': 'furniture/equipment', 'A43': 'radio/television', 'A44': 'domestic appliances', 'A45': 'repairs', 'A46': 'education', 'A47': 'vacation', 'A48': 'retraining', 'A49': 'business', 'A410': 'others'}\n",
      "A43\n",
      "credit_amount\n",
      "0$ to 2000$\n",
      "2333\n",
      "savings_account_bonds\n",
      "{'A65': 'no savings account', 'A61': '<100 DM', 'A62': '100 <= <500 DM', 'A63': '500 <= < 1000 DM', 'A64': '>= 1000 DM'}\n",
      "A65\n",
      "Based on these parameters {'status_of_existing_checking_account': 0.45, 'duration_in_month': 0.43, 'credit_history': 0.25, 'purpose': 0.45, 'credit_amount': 0.41, 'savings_account_bonds': 0.24}\n",
      "Model prediction: 1\n",
      "Based on these parameters {'status_of_existing_checking_account': 0.45, 'duration_in_month': 0.43, 'credit_history': 0.25, 'purpose': 0.45, 'credit_amount': 0.41, 'savings_account_bonds': 0.24}\n",
      "Status: THIS PERSON IS ELIGIBLE FOR LOAN\n",
      "======================================\n",
      "Try Again,[y/n]\n",
      "n\n"
     ]
    }
   ],
   "source": [
    "from ml_utils import load_model,predictDict \n",
    "load_model()\n",
    "print(\"====================================\")\n",
    "while True:\n",
    "    print(\"Enter status_of_existing_checking_account\\n\"+str({'A14':\"no checking account\",'A11':\"<0 DM\", 'A12': \"0 <= <200 DM\",'A13':\">= 200 DM \"}))\n",
    "    status_of_existing_checking_account=input()\n",
    "    print(\"duration_in_month\"+\"\\n 1 to 96\")\n",
    "    duration_in_month=int(input())\n",
    "    print('credit_history\\n'+str({\"A34\":\"critical account\",\"A33\":\"delay in paying off\",\"A32\":\"existing credits paid back duly till now\",\"A31\":\"all credits at this bank paid back duly\",\"A30\":\"no credits taken\"}))\n",
    "    credit_history=input()\n",
    "    print('purpose\\n'+ str({\"A40\" : \"car (new)\", \"A41\" : \"car (used)\", \"A42\" : \"furniture/equipment\", \"A43\" :\"radio/television\" , \"A44\" : \"domestic appliances\", \"A45\" : \"repairs\", \"A46\" : \"education\", 'A47' : 'vacation','A48' : 'retraining','A49' : 'business','A410' : 'others'}))\n",
    "    purpose=input()\n",
    "    print('credit_amount\\n'+str(\"0$ to 20000$\"))\n",
    "    credit_amount=int(input())\n",
    "    print('savings_account_bonds\\n'+str({\"A65\" : \"no savings account\",\"A61\" :\"<100 DM\",\"A62\" : \"100 <= <500 DM\",\"A63\" :\"500 <= < 1000 DM\", \"A64\" :\">= 1000 DM\"}))\n",
    "    savings_account_bonds=input()\n",
    "    payload = {\n",
    "        \"status_of_existing_checking_account\":status_of_existing_checking_account,   \n",
    "        \"duration_in_month\": duration_in_month,\n",
    "        \"credit_history\":credit_history,\n",
    "        \"purpose\": purpose,\n",
    "        \"credit_amount\": credit_amount,\n",
    "        \"savings_account_bonds\": savings_account_bonds,\n",
    "      }\n",
    "    print(\"Based on these parameters \"+ str(importance))\n",
    "    predictDict(payload)\n",
    "    print(\"======================================\")\n",
    "    print(\"Try Again,[y/n]\")\n",
    "    ch=input()\n",
    "    if(ch=='n'):\n",
    "        break"
   ]
  },
  {
   "cell_type": "code",
   "execution_count": null,
   "id": "29460f60",
   "metadata": {},
   "outputs": [],
   "source": []
  }
 ],
 "metadata": {
  "kernelspec": {
   "display_name": "Python 3",
   "language": "python",
   "name": "python3"
  },
  "language_info": {
   "codemirror_mode": {
    "name": "ipython",
    "version": 3
   },
   "file_extension": ".py",
   "mimetype": "text/x-python",
   "name": "python",
   "nbconvert_exporter": "python",
   "pygments_lexer": "ipython3",
   "version": "3.9.5"
  }
 },
 "nbformat": 4,
 "nbformat_minor": 5
}
